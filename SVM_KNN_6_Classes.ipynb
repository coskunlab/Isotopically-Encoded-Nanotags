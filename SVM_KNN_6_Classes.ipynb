{
 "cells": [
  {
   "cell_type": "markdown",
   "metadata": {},
   "source": [
    "# Implementing KNN/SVM for 6 classes "
   ]
  },
  {
   "cell_type": "markdown",
   "metadata": {},
   "source": [
    "## Importing Modules necessary"
   ]
  },
  {
   "cell_type": "code",
   "execution_count": 1,
   "metadata": {},
   "outputs": [],
   "source": [
    "import numpy as np  \n",
    "import matplotlib.pyplot as plt  \n",
    "import matplotlib.ticker as ticker\n",
    "from matplotlib.ticker import (MultipleLocator, FormatStrFormatter,\n",
    "                               AutoMinorLocator)\n",
    "import pandas as pd \n",
    "from sklearn.model_selection import train_test_split, StratifiedShuffleSplit, GridSearchCV\n",
    "from sklearn.svm import SVC\n",
    "from sklearn.metrics import classification_report, confusion_matrix, accuracy_score\n",
    "from sklearn import svm ,neighbors\n",
    "from pylab import * "
   ]
  },
  {
   "cell_type": "markdown",
   "metadata": {},
   "source": [
    "## Preprocessing of Data, from nanotaglistsortednorm.csv"
   ]
  },
  {
   "cell_type": "code",
   "execution_count": 2,
   "metadata": {},
   "outputs": [],
   "source": [
    "df1 = pd.read_csv(\"nanotaglistsortednorm.csv\")\n",
    "dictLabel = {'b001':1,'b010':2,'b100':3,'b101':4,'b110':5,'b111':6}\n",
    "df1 = df1.query('code == \"b001\" or code ==\"b010\" or code == \"b100\" or code == \"b101\" or code == \"b110\" or code == \"b111\"')\n",
    "labels = df1['code']"
   ]
  },
  {
   "cell_type": "markdown",
   "metadata": {},
   "source": [
    "## Checking the number of datapoints in each class"
   ]
  },
  {
   "cell_type": "code",
   "execution_count": 3,
   "metadata": {},
   "outputs": [],
   "source": [
    "new_labels = [dictLabel[l] for l in labels]\n",
    "class_count = { 1: 0, 2: 0, 3:0 , 4:0 , 5:0, 6:0}\n",
    "for l in new_labels:\n",
    "    class_count[l] += 1"
   ]
  },
  {
   "cell_type": "markdown",
   "metadata": {},
   "source": [
    "## Splitting it into test and train Data"
   ]
  },
  {
   "cell_type": "code",
   "execution_count": 4,
   "metadata": {},
   "outputs": [],
   "source": [
    "X=df1[['F','Br','I']]\n",
    "y=new_labels\n",
    "X_train, X_test, y_train, y_test = train_test_split(X, y, test_size = 0.15)"
   ]
  },
  {
   "cell_type": "markdown",
   "metadata": {},
   "source": [
    "## SVM Model Fit"
   ]
  },
  {
   "cell_type": "code",
   "execution_count": 5,
   "metadata": {},
   "outputs": [],
   "source": [
    "C_range = np.logspace(-2, 10, 13)\n",
    "gamma_range = np.logspace(-9, 3, 13)\n",
    "param_grid = dict(gamma=gamma_range, C=C_range)\n",
    "cv = StratifiedShuffleSplit(n_splits=5, test_size=0.15, random_state=42)\n",
    "grid = GridSearchCV(SVC(), param_grid=param_grid, cv=cv)\n",
    "grid.fit(X, y)\n",
    "\n",
    "svclassifier = SVC(kernel='rbf',C = 10.0, gamma = 1.0)\n",
    "svclassifier.fit(X, y) \n",
    "y_pred = svclassifier.predict(X)  \n",
    "\n",
    "# print(\"The best parameters are %s with a score of %0.2f\"\n",
    "#       % (grid.best_params_, grid.best_score_))\n"
   ]
  },
  {
   "cell_type": "markdown",
   "metadata": {},
   "source": [
    "## K-NN Model fit for 2 to 4 neighbours"
   ]
  },
  {
   "cell_type": "code",
   "execution_count": 6,
   "metadata": {},
   "outputs": [],
   "source": [
    "neigh = neighbors.KNeighborsClassifier(n_neighbors=3)\n",
    "neigh.fit(X, y)\n",
    "y_pred = neigh.predict(X)\n",
    "acc_test = 100*np.sum(y_pred == y)/len(y)\n",
    "# print(confusion_matrix(y, y_pred))  \n",
    "# print(classification_report(y, y_pred)) "
   ]
  },
  {
   "cell_type": "markdown",
   "metadata": {},
   "source": [
    "## Defining plotting functions"
   ]
  },
  {
   "cell_type": "code",
   "execution_count": 7,
   "metadata": {},
   "outputs": [],
   "source": [
    "def make_meshgrid(x, y, h=.02):\n",
    "    x_min, x_max = x.min() - 1, x.max() + 1\n",
    "    y_min, y_max = y.min() - 1, y.max() + 1\n",
    "    xx, yy = np.meshgrid(np.arange(x_min, x_max, h), np.arange(y_min, y_max, h))\n",
    "    return xx, yy\n",
    "\n",
    "def plot_contours(ax, clf, xx, yy, **params):\n",
    "    Z = clf.predict(np.c_[xx.ravel(), yy.ravel()])\n",
    "    Z = Z.reshape(xx.shape)\n",
    "    out = ax.contourf(xx, yy, Z, **params)\n",
    "    return out"
   ]
  },
  {
   "cell_type": "markdown",
   "metadata": {},
   "source": [
    "## Plotting of data"
   ]
  },
  {
   "cell_type": "code",
   "execution_count": 8,
   "metadata": {},
   "outputs": [
    {
     "name": "stdout",
     "output_type": "stream",
     "text": [
      "<class 'pandas.core.frame.DataFrame'>\n"
     ]
    },
    {
     "data": {
      "image/png": "[encoded data removed]",
      "text/plain": [
       "<Figure size 432x288 with 1 Axes>"
      ]
     },
     "metadata": {
      "needs_background": "light"
     },
     "output_type": "display_data"
    }
   ],
   "source": [
    "# data to plot\n",
    "print(type(X))\n",
    "X = np.array(X)\n",
    "X0 = X[:, 0]\n",
    "\n",
    "n_groups = 6\n",
    "manual = (21,14,14,10,7,16)\n",
    "SVM = (21,14,13,10,3,16)\n",
    "kmeans_2 = (21,12,12,10,5,15)\n",
    "kmeans_3 = (21,14,13,8,5,15) \n",
    "kmeans_4 = (14,20,12,13,8,3,14)\n",
    "# create plot\n",
    "fig, ax = plt.subplots()\n",
    "index = np.arange(n_groups)\n",
    "bar_width = 0.35\n",
    "opacity = 0.8\n"
   ]
  },
  {
   "cell_type": "code",
   "execution_count": 9,
   "metadata": {},
   "outputs": [
    {
     "data": {
      "image/png": "[encoded data removed]",
      "text/plain": [
       "<Figure size 432x288 with 1 Axes>"
      ]
     },
     "metadata": {
      "needs_background": "light"
     },
     "output_type": "display_data"
    }
   ],
   "source": [
    "rects1 = plt.bar(index, manual, bar_width,\n",
    "alpha=opacity,\n",
    "color='magenta',\n",
    "label='Manual')\n",
    "\n",
    "rects2 = plt.bar(index + bar_width, kmeans_3, bar_width,\n",
    "alpha=opacity,\n",
    "color='blue',\n",
    "label='Kmeans_3')\n",
    "\n",
    "plt.xlabel('Barcode',fontweight = 'bold',fontsize = 18)\n",
    "plt.ylabel('Counts',fontweight = 'bold',fontsize = 18)\n",
    "#plt.title('Bar plot')\n",
    "plt.xticks(index + bar_width, ('001', '010', '100','101','110','111'))\n",
    "\n",
    "\n",
    "plt.yticks(np.arange(5), ('0', '5','10','15','20' ))\n",
    "fontsize = 14\n",
    "ax = gca()\n",
    "\n",
    "ax.set_xticklabels(['001', '010', '100','101','110','111'], minor=False, rotation=45)\n",
    "for tick in ax.xaxis.get_major_ticks():\n",
    "    tick.label1.set_fontsize(fontsize)\n",
    "   # tick.label1.set_fontweight('bold')\n",
    "for tick in ax.yaxis.get_major_ticks():\n",
    "    tick.label1.set_fontsize(fontsize)\n",
    "  #  tick.label1.set_fontweight('bold')\n",
    "for axis in [ax.yaxis]:\n",
    "    axis.set_major_locator(plt.MaxNLocator(5))\n",
    "\n",
    "plt.tight_layout()\n",
    "plt.show()"
   ]
  }
 ],
 "metadata": {
  "kernelspec": {
   "display_name": "Python 3",
   "language": "python",
   "name": "python3"
  },
  "language_info": {
   "codemirror_mode": {
    "name": "ipython",
    "version": 3
   },
   "file_extension": ".py",
   "mimetype": "text/x-python",
   "name": "python",
   "nbconvert_exporter": "python",
   "pygments_lexer": "ipython3",
   "version": "3.7.3"
  }
 },
 "nbformat": 4,
 "nbformat_minor": 2
}
